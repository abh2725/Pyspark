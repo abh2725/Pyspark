{
 "cells": [
  {
   "cell_type": "code",
   "execution_count": null,
   "id": "9373d090",
   "metadata": {},
   "outputs": [],
   "source": [
    "from pyspark.sql.types import StructType, StructField, IntegerType, StringType, DateType\n",
    "from pyspark.sql import SparkSession\n",
    "from pyspark.sql import functions as f"
   ]
  },
  {
   "cell_type": "code",
   "execution_count": 204,
   "id": "214f35a3",
   "metadata": {},
   "outputs": [],
   "source": [
    "spark=SparkSession.builder.appName('Sptfy').getOrCreate()"
   ]
  },
  {
   "cell_type": "code",
   "execution_count": 205,
   "id": "f6c2262e",
   "metadata": {},
   "outputs": [],
   "source": [
    "df = spark.read.option(\"header\", True) .csv(\"spotify.csv\")"
   ]
  },
  {
   "cell_type": "code",
   "execution_count": 206,
   "id": "efb776f8",
   "metadata": {},
   "outputs": [
    {
     "name": "stdout",
     "output_type": "stream",
     "text": [
      "+--------------------+--------------------+--------------------+-----------+------------+----+------------+------------+-------+----------------+--------+--------+-----------+-------+-------+----+---+----------+--------+\n",
      "|                  id|                name|             artists|duration_ms|release_date|year|acousticness|danceability| energy|instrumentalness|liveness|loudness|speechiness|  tempo|valence|mode|key|popularity|explicit|\n",
      "+--------------------+--------------------+--------------------+-----------+------------+----+------------+------------+-------+----------------+--------+--------+-----------+-------+-------+----+---+----------+--------+\n",
      "|6KbQ3uYMLKb5jDxLF...|Singende Bataillo...| ['Carl Woitschach']|     158648|        1928|1928|       0.995|       0.708|  0.195|           0.563|   0.151| -12.428|     0.0506|118.469|  0.779|   1| 10|         0|       0|\n",
      "|6KuQTIu1KoTTkLXKr...|Fantasiestücke, O...|['Robert Schumann...|     282133|        1928|1928|       0.994|       0.379| 0.0135|           0.901|  0.0763| -28.454|     0.0462| 83.972| 0.0767|   1|  8|         0|       0|\n",
      "|6L63VW0PibdM1HDSB...|Chapter 1.18 - Za...|['Seweryn Goszczy...|     104300|        1928|1928|       0.604|       0.749|   0.22|               0|   0.119| -19.924|      0.929|107.177|   0.88|   0|  5|         0|       0|\n",
      "|6M94FkXd15sOAOQYR...|Bebamos Juntos - ...|['Francisco Canaro']|     180760|     9/25/28|1928|       0.995|       0.781|   0.13|           0.887|   0.111| -14.734|     0.0926|108.003|   0.72|   0|  1|         0|       0|\n",
      "|6N6tiFZ9vLTSOIxkj...|Polonaise-Fantais...|['Frédéric Chopin...|     687733|        1928|1928|        0.99|        0.21|  0.204|           0.908|   0.098| -16.829|     0.0424| 62.149| 0.0693|   1| 11|         1|       0|\n",
      "|6NxAf7M8DNHOBTmEd...|Scherzo a capricc...|['Felix Mendelsso...|     352600|        1928|1928|       0.995|       0.424|   0.12|           0.911|  0.0915| -19.242|     0.0593| 63.521|  0.266|   0|  6|         0|       0|\n",
      "|6O0puPuyrxPjDTHDU...|Valse oubliée No....|['Franz Liszt', '...|     136627|        1928|1928|       0.956|       0.444|  0.197|           0.435|  0.0744| -17.226|       0.04| 80.495|  0.305|   1| 11|         0|       0|\n",
      "|6OJjveoYwJdIt76y0...| Per aspera ad astra| ['Carl Woitschach']|     153967|        1928|1928|       0.988|       0.555|  0.421|           0.836|   0.105|  -9.878|     0.0474| 123.31|  0.857|   1|  1|         0|       0|\n",
      "|6OaJ8Bh7lsBeYoBmw...|Moneda Corriente ...|['Francisco Canar...|     162493|     10/3/28|1928|       0.995|       0.683|  0.207|           0.206|   0.337|  -9.801|      0.127|119.833|  0.493|   0|  9|         0|       0|\n",
      "|6PrZexNb16cabXR8Q...|Chapter 1.3 - Zam...|['Seweryn Goszczy...|     111600|        1928|1928|       0.846|       0.674|  0.205|               0|    0.17| -20.119|      0.954| 81.249|  0.759|   1|  9|         0|       0|\n",
      "|6QBInZBkQNIQYU9gG...|Piano Sonata No. ...|['Sergei Rachmani...|     590293|        1928|1928|       0.994|       0.376| 0.0719|           0.883|   0.196| -21.849|     0.0352| 141.39| 0.0393|   0| 10|         0|       0|\n",
      "|6QIONtzbQCbnmWNwn...|Piano Sonata No. ...|['Frédéric Chopin...|      85133|        1928|1928|       0.989|        0.17| 0.0823|           0.911|  0.0962| -30.107|     0.0317| 85.989|  0.346|   0| 10|         1|       0|\n",
      "|6QgdUySTRGVkNo3Kw...|Piano Sonata in E...|['Samuel Barber',...|     338333|        1928|1928|        0.99|       0.359| 0.0435|           0.899|   0.109| -20.858|     0.0424| 96.645|  0.042|   1|  7|         0|       0|\n",
      "|6RvSNoCPBZeTR2LyG...|Nachtstücke, Op. ...|['Robert Schumann...|     167333|        1928|1928|       0.992|       0.311| 0.0107|           0.883|  0.0954| -35.648|     0.0556|  78.98|  0.216|   1|  5|         0|       0|\n",
      "|6Rwn56jcC0TdGQzbR...|Symphony No. 5 in...|['Ludwig van Beet...|     276563|      1/1/28|1928|       0.977|       0.335|  0.105|            0.84|   0.231| -16.049|     0.0716| 80.204|  0.406|   0|  5|         0|       0|\n",
      "|6Sdpmree8xpGWaedA...|A Shropshire Lad:...|['George Butterwo...|     184840|        1928|1928|       0.991|       0.319|0.00593|        6.35E-05|  0.0691| -25.789|      0.051| 79.831|  0.169|   0|  7|         0|       0|\n",
      "|6T0mZB7p3qzOifdXZ...|Sonata No. 3, Op....|['Alexander Scria...|     326067|        1928|1928|       0.996|       0.319|  0.155|           0.917|   0.126| -18.728|      0.036| 66.947| 0.0488|   1|  4|         0|       0|\n",
      "|6TFuAErGpJ9FpxQQ1...|Invocación al Tan...|['Francisco Canar...|     167107|     9/16/28|1928|       0.994|       0.787|  0.156|           0.659|    0.11| -14.056|      0.157|117.167|  0.849|   0|  4|         0|       0|\n",
      "|6UUfiNT82MWBNnmsE...| Where the Bee Sucks|['Thomas Arne', '...|     122533|        1928|1928|       0.993|       0.569|   0.15|          0.0015|   0.106| -15.238|     0.0474|  76.93|  0.596|   1|  5|         0|       0|\n",
      "|6Ukl7n0q3Cjd0Og8u...|Tendrás Que Llora...|['Francisco Canaro']|     173707|     9/17/28|1928|       0.992|       0.763|  0.132|          0.0693|   0.112| -13.002|     0.0886|111.679|  0.832|   1|  4|         0|       0|\n",
      "+--------------------+--------------------+--------------------+-----------+------------+----+------------+------------+-------+----------------+--------+--------+-----------+-------+-------+----+---+----------+--------+\n",
      "only showing top 20 rows\n",
      "\n"
     ]
    }
   ],
   "source": [
    "df.show()"
   ]
  },
  {
   "cell_type": "code",
   "execution_count": null,
   "id": "cae1d20c",
   "metadata": {},
   "outputs": [
    {
     "name": "stdout",
     "output_type": "stream",
     "text": [
      "+--------------------+--------------------+--------------------+-----------+------------+----+------------+------------+-------+----------------+--------+--------+-----------+-------+-------+----+---+----------+--------+------------+\n",
      "|                  id|                name|             artists|duration_ms|release_date|year|acousticness|danceability| energy|instrumentalness|liveness|loudness|speechiness|  tempo|valence|mode|key|popularity|explicit|duration_min|\n",
      "+--------------------+--------------------+--------------------+-----------+------------+----+------------+------------+-------+----------------+--------+--------+-----------+-------+-------+----+---+----------+--------+------------+\n",
      "|6KbQ3uYMLKb5jDxLF...|Singende Bataillo...|     Carl Woitschach|     158648|      1/1/28|1928|       0.995|       0.708|  0.195|           0.563|   0.151| -12.428|     0.0506|118.469|  0.779|   1| 10|         0|       0|        2.64|\n",
      "|6KuQTIu1KoTTkLXKr...|Fantasiestücke, O...|Robert Schumann, ...|     282133|      1/1/28|1928|       0.994|       0.379| 0.0135|           0.901|  0.0763| -28.454|     0.0462| 83.972| 0.0767|   1|  8|         0|       0|         4.7|\n",
      "|6L63VW0PibdM1HDSB...|Chapter 1.18 - Za...| Seweryn Goszczyński|     104300|      1/1/28|1928|       0.604|       0.749|   0.22|               0|   0.119| -19.924|      0.929|107.177|   0.88|   0|  5|         0|       0|        1.74|\n",
      "|6M94FkXd15sOAOQYR...|Bebamos Juntos - ...|    Francisco Canaro|     180760|     9/25/28|1928|       0.995|       0.781|   0.13|           0.887|   0.111| -14.734|     0.0926|108.003|   0.72|   0|  1|         0|       0|        3.01|\n",
      "|6N6tiFZ9vLTSOIxkj...|Polonaise-Fantais...|Frédéric Chopin, ...|     687733|      1/1/28|1928|        0.99|        0.21|  0.204|           0.908|   0.098| -16.829|     0.0424| 62.149| 0.0693|   1| 11|         1|       0|       11.46|\n",
      "|6NxAf7M8DNHOBTmEd...|Scherzo a capricc...|Felix Mendelssohn...|     352600|      1/1/28|1928|       0.995|       0.424|   0.12|           0.911|  0.0915| -19.242|     0.0593| 63.521|  0.266|   0|  6|         0|       0|        5.88|\n",
      "|6O0puPuyrxPjDTHDU...|Valse oubliée No....|Franz Liszt, Vlad...|     136627|      1/1/28|1928|       0.956|       0.444|  0.197|           0.435|  0.0744| -17.226|       0.04| 80.495|  0.305|   1| 11|         0|       0|        2.28|\n",
      "|6OJjveoYwJdIt76y0...| Per aspera ad astra|     Carl Woitschach|     153967|      1/1/28|1928|       0.988|       0.555|  0.421|           0.836|   0.105|  -9.878|     0.0474| 123.31|  0.857|   1|  1|         0|       0|        2.57|\n",
      "|6OaJ8Bh7lsBeYoBmw...|Moneda Corriente ...|Francisco Canaro,...|     162493|     10/3/28|1928|       0.995|       0.683|  0.207|           0.206|   0.337|  -9.801|      0.127|119.833|  0.493|   0|  9|         0|       0|        2.71|\n",
      "|6PrZexNb16cabXR8Q...|Chapter 1.3 - Zam...| Seweryn Goszczyński|     111600|      1/1/28|1928|       0.846|       0.674|  0.205|               0|    0.17| -20.119|      0.954| 81.249|  0.759|   1|  9|         0|       0|        1.86|\n",
      "|6QBInZBkQNIQYU9gG...|Piano Sonata No. ...|Sergei Rachmanino...|     590293|      1/1/28|1928|       0.994|       0.376| 0.0719|           0.883|   0.196| -21.849|     0.0352| 141.39| 0.0393|   0| 10|         0|       0|        9.84|\n",
      "|6QIONtzbQCbnmWNwn...|Piano Sonata No. ...|Frédéric Chopin, ...|      85133|      1/1/28|1928|       0.989|        0.17| 0.0823|           0.911|  0.0962| -30.107|     0.0317| 85.989|  0.346|   0| 10|         1|       0|        1.42|\n",
      "|6QgdUySTRGVkNo3Kw...|Piano Sonata in E...|Samuel Barber, Vl...|     338333|      1/1/28|1928|        0.99|       0.359| 0.0435|           0.899|   0.109| -20.858|     0.0424| 96.645|  0.042|   1|  7|         0|       0|        5.64|\n",
      "|6RvSNoCPBZeTR2LyG...|Nachtstücke, Op. ...|Robert Schumann, ...|     167333|      1/1/28|1928|       0.992|       0.311| 0.0107|           0.883|  0.0954| -35.648|     0.0556|  78.98|  0.216|   1|  5|         0|       0|        2.79|\n",
      "|6Rwn56jcC0TdGQzbR...|Symphony No. 5 in...|Ludwig van Beetho...|     276563|      1/1/28|1928|       0.977|       0.335|  0.105|            0.84|   0.231| -16.049|     0.0716| 80.204|  0.406|   0|  5|         0|       0|        4.61|\n",
      "|6Sdpmree8xpGWaedA...|A Shropshire Lad:...|George Butterwort...|     184840|      1/1/28|1928|       0.991|       0.319|0.00593|        6.35E-05|  0.0691| -25.789|      0.051| 79.831|  0.169|   0|  7|         0|       0|        3.08|\n",
      "|6T0mZB7p3qzOifdXZ...|Sonata No. 3, Op....|Alexander Scriabi...|     326067|      1/1/28|1928|       0.996|       0.319|  0.155|           0.917|   0.126| -18.728|      0.036| 66.947| 0.0488|   1|  4|         0|       0|        5.43|\n",
      "|6TFuAErGpJ9FpxQQ1...|Invocación al Tan...|Francisco Canaro,...|     167107|     9/16/28|1928|       0.994|       0.787|  0.156|           0.659|    0.11| -14.056|      0.157|117.167|  0.849|   0|  4|         0|       0|        2.79|\n",
      "|6UUfiNT82MWBNnmsE...| Where the Bee Sucks|Thomas Arne, John...|     122533|      1/1/28|1928|       0.993|       0.569|   0.15|          0.0015|   0.106| -15.238|     0.0474|  76.93|  0.596|   1|  5|         0|       0|        2.04|\n",
      "|6Ukl7n0q3Cjd0Og8u...|Tendrás Que Llora...|    Francisco Canaro|     173707|     9/17/28|1928|       0.992|       0.763|  0.132|          0.0693|   0.112| -13.002|     0.0886|111.679|  0.832|   1|  4|         0|       0|         2.9|\n",
      "+--------------------+--------------------+--------------------+-----------+------------+----+------------+------------+-------+----------------+--------+--------+-----------+-------+-------+----+---+----------+--------+------------+\n",
      "only showing top 20 rows\n",
      "\n"
     ]
    }
   ],
   "source": [
    "df=df.withColumn('duration_min',f.round(df.duration_ms/60000,2))\\\n",
    "    .withColumn(\"artists\", f.regexp_replace(\"artists\", r\"\\[|\\]|'\", \"\"))\\\n",
    "    .withColumn('release_date',f.when(f.length(df.release_date)=='4',f.concat(f.lit('1/1/'),f.right(df.release_date,f.lit(2)))).otherwise(df.release_date))\n",
    "   \n",
    "\n",
    "df.show()"
   ]
  },
  {
   "cell_type": "code",
   "execution_count": 215,
   "id": "cdb46721",
   "metadata": {},
   "outputs": [
    {
     "name": "stdout",
     "output_type": "stream",
     "text": [
      "+--------------------+----+-----+\n",
      "|             artists|year|Count|\n",
      "+--------------------+----+-----+\n",
      "|   Эрих Мария Ремарк|1945|  536|\n",
      "|    Эрнест Хемингуэй|1940|  391|\n",
      "|    Эрнест Хемингуэй|1935|  277|\n",
      "|   Эрих Мария Ремарк|1929|  245|\n",
      "|  Orchestra Studio 7|1942|  238|\n",
      "|    Francisco Canaro|1927|  227|\n",
      "|    Эрнест Хемингуэй|1926|  219|\n",
      "|Sinclair Lewis, F...|1935|  212|\n",
      "|    Эрнест Хемингуэй|1929|  180|\n",
      "|Frédéric Chopin, ...|1946|  151|\n",
      "|Frédéric Chopin, ...|1928|  149|\n",
      "|    Francisco Canaro|1929|  134|\n",
      "|Francisco Canaro,...|1928|  126|\n",
      "|         The Beatles|1967|  120|\n",
      "|Franz Joseph Hayd...|1935|  116|\n",
      "|Francisco Canaro,...|1930|  115|\n",
      "|Francisco Canaro,...|1929|  114|\n",
      "|Igor Stravinsky, ...|1948|  112|\n",
      "|Billie Holiday, T...|1933|  110|\n",
      "|      Billie Holiday|1933|  110|\n",
      "+--------------------+----+-----+\n",
      "only showing top 20 rows\n",
      "\n"
     ]
    }
   ],
   "source": [
    "df1=df.groupBy(\"artists\",\"year\")\\\n",
    "    .agg(f.count('name').alias('Count'))\\\n",
    "    .sort(f.count('name'),ascending=False)\n",
    "df1.show()"
   ]
  },
  {
   "cell_type": "code",
   "execution_count": 208,
   "id": "92ad389d",
   "metadata": {},
   "outputs": [],
   "source": [
    "df.write.format(\"parquet\").mode(\"overwrite\").save(\"spty\")\n",
    "\n",
    "#df2.write.format(\"csv\").mode('overwrite').save(\"/tmp/spark_output/zipcodes\")"
   ]
  },
  {
   "cell_type": "code",
   "execution_count": null,
   "id": "2e06b24d",
   "metadata": {},
   "outputs": [],
   "source": []
  }
 ],
 "metadata": {
  "kernelspec": {
   "display_name": "Python 3",
   "language": "python",
   "name": "python3"
  },
  "language_info": {
   "codemirror_mode": {
    "name": "ipython",
    "version": 3
   },
   "file_extension": ".py",
   "mimetype": "text/x-python",
   "name": "python",
   "nbconvert_exporter": "python",
   "pygments_lexer": "ipython3",
   "version": "3.9.0"
  }
 },
 "nbformat": 4,
 "nbformat_minor": 5
}
